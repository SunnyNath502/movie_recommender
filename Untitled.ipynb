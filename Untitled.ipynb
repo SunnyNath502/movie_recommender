{
 "cells": [
  {
   "cell_type": "code",
   "execution_count": 3,
   "id": "fe979136",
   "metadata": {},
   "outputs": [],
   "source": [
    "import pandas as pd\n",
    "import numpy as np"
   ]
  },
  {
   "cell_type": "code",
   "execution_count": 4,
   "id": "e085cfc3",
   "metadata": {},
   "outputs": [],
   "source": [
    "df1=pd.read_csv(\"D:\\data analysis\\movie_dataset\\movies_metadata - Copy - Copy - Copy - Copy.csv\")\n"
   ]
  },
  {
   "cell_type": "code",
   "execution_count": 5,
   "id": "2cd6fe10",
   "metadata": {},
   "outputs": [],
   "source": [
    "df2=pd.read_csv(\"D:\\data analysis\\movie_dataset\\credits.csv\")"
   ]
  },
  {
   "cell_type": "code",
   "execution_count": 6,
   "id": "8c689043",
   "metadata": {},
   "outputs": [
    {
     "name": "stdout",
     "output_type": "stream",
     "text": [
      "<class 'pandas.core.frame.DataFrame'>\n",
      "RangeIndex: 42680 entries, 0 to 42679\n",
      "Data columns (total 3 columns):\n",
      " #   Column  Non-Null Count  Dtype \n",
      "---  ------  --------------  ----- \n",
      " 0   cast    42680 non-null  object\n",
      " 1   crew    42680 non-null  object\n",
      " 2   id      42680 non-null  int64 \n",
      "dtypes: int64(1), object(2)\n",
      "memory usage: 1000.4+ KB\n"
     ]
    }
   ],
   "source": [
    "df2.info()"
   ]
  },
  {
   "cell_type": "code",
   "execution_count": 7,
   "id": "1d87c18a",
   "metadata": {},
   "outputs": [],
   "source": [
    "# s=df1['id'].apply(type).value_counts()"
   ]
  },
  {
   "cell_type": "code",
   "execution_count": 8,
   "id": "fd62e103",
   "metadata": {},
   "outputs": [],
   "source": [
    "# df1['id'] = pd.to_numeric(df1['id'], errors='coerce').astype('Int64')"
   ]
  },
  {
   "cell_type": "code",
   "execution_count": 9,
   "id": "ea8b21bf",
   "metadata": {},
   "outputs": [],
   "source": [
    "df3 = pd.merge(df1, df2, on='id', how='inner')\n"
   ]
  },
  {
   "cell_type": "code",
   "execution_count": 10,
   "id": "ea17c3e5",
   "metadata": {},
   "outputs": [
    {
     "name": "stdout",
     "output_type": "stream",
     "text": [
      "<class 'pandas.core.frame.DataFrame'>\n",
      "RangeIndex: 38748 entries, 0 to 38747\n",
      "Data columns (total 9 columns):\n",
      " #   Column             Non-Null Count  Dtype  \n",
      "---  ------             --------------  -----  \n",
      " 0   id                 38748 non-null  int64  \n",
      " 1   title              38748 non-null  object \n",
      " 2   genres             38748 non-null  object \n",
      " 3   original_language  38748 non-null  object \n",
      " 4   overview           38748 non-null  object \n",
      " 5   vote_average       38748 non-null  float64\n",
      " 6   vote_count         38748 non-null  int64  \n",
      " 7   cast               38748 non-null  object \n",
      " 8   crew               38748 non-null  object \n",
      "dtypes: float64(1), int64(2), object(6)\n",
      "memory usage: 2.7+ MB\n"
     ]
    }
   ],
   "source": [
    "df3.info()"
   ]
  },
  {
   "cell_type": "code",
   "execution_count": 11,
   "id": "484837e6",
   "metadata": {},
   "outputs": [],
   "source": [
    "# value_to_match = '[]'\n",
    "\n",
    "# # Create a boolean mask to identify rows with the specified value\n",
    "# mask = df3['crew'] == value_to_match\n",
    "\n",
    "# # Use the boolean mask to select rows to delete\n",
    "# df3 = df3[~mask]\n"
   ]
  },
  {
   "cell_type": "code",
   "execution_count": 12,
   "id": "c714acc7",
   "metadata": {},
   "outputs": [
    {
     "data": {
      "text/plain": [
       "id                   0\n",
       "title                0\n",
       "genres               0\n",
       "original_language    0\n",
       "overview             0\n",
       "vote_average         0\n",
       "vote_count           0\n",
       "cast                 0\n",
       "crew                 0\n",
       "dtype: int64"
      ]
     },
     "execution_count": 12,
     "metadata": {},
     "output_type": "execute_result"
    }
   ],
   "source": [
    "df3.isnull().sum()"
   ]
  },
  {
   "cell_type": "code",
   "execution_count": 13,
   "id": "aac84c99",
   "metadata": {},
   "outputs": [
    {
     "data": {
      "text/plain": [
       "0        False\n",
       "1        False\n",
       "2        False\n",
       "3        False\n",
       "4        False\n",
       "         ...  \n",
       "38743    False\n",
       "38744    False\n",
       "38745    False\n",
       "38746    False\n",
       "38747    False\n",
       "Length: 38748, dtype: bool"
      ]
     },
     "execution_count": 13,
     "metadata": {},
     "output_type": "execute_result"
    }
   ],
   "source": [
    "df3.duplicated()"
   ]
  },
  {
   "cell_type": "code",
   "execution_count": 14,
   "id": "a16c8675",
   "metadata": {},
   "outputs": [],
   "source": [
    "df3.drop_duplicates(inplace=True)"
   ]
  },
  {
   "cell_type": "code",
   "execution_count": 15,
   "id": "24e67b63",
   "metadata": {},
   "outputs": [
    {
     "name": "stdout",
     "output_type": "stream",
     "text": [
      "<class 'pandas.core.frame.DataFrame'>\n",
      "Index: 38662 entries, 0 to 38747\n",
      "Data columns (total 9 columns):\n",
      " #   Column             Non-Null Count  Dtype  \n",
      "---  ------             --------------  -----  \n",
      " 0   id                 38662 non-null  int64  \n",
      " 1   title              38662 non-null  object \n",
      " 2   genres             38662 non-null  object \n",
      " 3   original_language  38662 non-null  object \n",
      " 4   overview           38662 non-null  object \n",
      " 5   vote_average       38662 non-null  float64\n",
      " 6   vote_count         38662 non-null  int64  \n",
      " 7   cast               38662 non-null  object \n",
      " 8   crew               38662 non-null  object \n",
      "dtypes: float64(1), int64(2), object(6)\n",
      "memory usage: 2.9+ MB\n"
     ]
    }
   ],
   "source": [
    "df3.info()"
   ]
  },
  {
   "cell_type": "code",
   "execution_count": 16,
   "id": "1098cdec",
   "metadata": {},
   "outputs": [
    {
     "data": {
      "text/plain": [
       "\"[{'id': 28, 'name': 'Action'}, {'id': 35, 'name': 'Comedy'}]\""
      ]
     },
     "execution_count": 16,
     "metadata": {},
     "output_type": "execute_result"
    }
   ],
   "source": [
    "df3.iloc[1333].genres"
   ]
  },
  {
   "cell_type": "code",
   "execution_count": 17,
   "id": "f8d99c14",
   "metadata": {},
   "outputs": [],
   "source": [
    "def convert_g(text):\n",
    "    l=[]\n",
    "    for i in ast.literal_eval(text):\n",
    "        l.append(i['name'])\n",
    "    return l"
   ]
  },
  {
   "cell_type": "code",
   "execution_count": 18,
   "id": "2376db03",
   "metadata": {},
   "outputs": [],
   "source": [
    "import ast\n",
    "df3['genres']=df3['genres'].apply(convert_g)"
   ]
  },
  {
   "cell_type": "code",
   "execution_count": 19,
   "id": "ff23d1b8",
   "metadata": {},
   "outputs": [],
   "source": [
    "def convert_3(obj):\n",
    "    L=[]\n",
    "    counter = 0\n",
    "    for i in ast.literal_eval(obj):\n",
    "        if counter != 3:\n",
    "            L.append(i['name'])\n",
    "            counter+=1\n",
    "        else:\n",
    "            break\n",
    "    return L"
   ]
  },
  {
   "cell_type": "code",
   "execution_count": 20,
   "id": "bfda996d",
   "metadata": {},
   "outputs": [],
   "source": [
    "df3['cast']=df3['cast'].apply(convert_3)"
   ]
  },
  {
   "cell_type": "code",
   "execution_count": 21,
   "id": "42162b5e",
   "metadata": {},
   "outputs": [],
   "source": [
    "def fetch_director(obj):\n",
    "    L=[]\n",
    "    for i in ast.literal_eval(obj):\n",
    "        if i['job'] == 'Director':\n",
    "            L.append(i['name'])\n",
    "            break\n",
    "    return L"
   ]
  },
  {
   "cell_type": "code",
   "execution_count": 22,
   "id": "22b67c49",
   "metadata": {},
   "outputs": [],
   "source": [
    "df3['crew']=df3['crew'].apply(fetch_director)"
   ]
  },
  {
   "cell_type": "code",
   "execution_count": 23,
   "id": "c67d46ed",
   "metadata": {},
   "outputs": [],
   "source": [
    "def collapse(L):\n",
    "    L1 = []\n",
    "    for i in L:\n",
    "        L1.append(i.replace(\" \",\"\"))\n",
    "    return L1"
   ]
  },
  {
   "cell_type": "code",
   "execution_count": 24,
   "id": "75eb8d2f",
   "metadata": {},
   "outputs": [],
   "source": [
    "df3['genres']=df3['genres'].apply(collapse)\n",
    "df3['cast']=df3['cast'].apply(collapse)\n",
    "df3['crew']=df3['crew'].apply(collapse)"
   ]
  },
  {
   "cell_type": "code",
   "execution_count": 25,
   "id": "a520dc7f",
   "metadata": {},
   "outputs": [
    {
     "data": {
      "text/html": [
       "<div>\n",
       "<style scoped>\n",
       "    .dataframe tbody tr th:only-of-type {\n",
       "        vertical-align: middle;\n",
       "    }\n",
       "\n",
       "    .dataframe tbody tr th {\n",
       "        vertical-align: top;\n",
       "    }\n",
       "\n",
       "    .dataframe thead th {\n",
       "        text-align: right;\n",
       "    }\n",
       "</style>\n",
       "<table border=\"1\" class=\"dataframe\">\n",
       "  <thead>\n",
       "    <tr style=\"text-align: right;\">\n",
       "      <th></th>\n",
       "      <th>id</th>\n",
       "      <th>title</th>\n",
       "      <th>genres</th>\n",
       "      <th>original_language</th>\n",
       "      <th>overview</th>\n",
       "      <th>vote_average</th>\n",
       "      <th>vote_count</th>\n",
       "      <th>cast</th>\n",
       "      <th>crew</th>\n",
       "    </tr>\n",
       "  </thead>\n",
       "  <tbody>\n",
       "    <tr>\n",
       "      <th>0</th>\n",
       "      <td>862</td>\n",
       "      <td>Toy Story</td>\n",
       "      <td>[Animation, Comedy, Family]</td>\n",
       "      <td>en</td>\n",
       "      <td>Led by Woody, Andy's toys live happily in his ...</td>\n",
       "      <td>7.7</td>\n",
       "      <td>5415</td>\n",
       "      <td>[TomHanks, TimAllen, DonRickles]</td>\n",
       "      <td>[JohnLasseter]</td>\n",
       "    </tr>\n",
       "    <tr>\n",
       "      <th>1</th>\n",
       "      <td>8844</td>\n",
       "      <td>Jumanji</td>\n",
       "      <td>[Adventure, Fantasy, Family]</td>\n",
       "      <td>en</td>\n",
       "      <td>When siblings Judy and Peter discover an encha...</td>\n",
       "      <td>6.9</td>\n",
       "      <td>2413</td>\n",
       "      <td>[RobinWilliams, JonathanHyde, KirstenDunst]</td>\n",
       "      <td>[JoeJohnston]</td>\n",
       "    </tr>\n",
       "    <tr>\n",
       "      <th>2</th>\n",
       "      <td>15602</td>\n",
       "      <td>Grumpier Old Men</td>\n",
       "      <td>[Romance, Comedy]</td>\n",
       "      <td>en</td>\n",
       "      <td>A family wedding reignites the ancient feud be...</td>\n",
       "      <td>6.5</td>\n",
       "      <td>92</td>\n",
       "      <td>[WalterMatthau, JackLemmon, Ann-Margret]</td>\n",
       "      <td>[HowardDeutch]</td>\n",
       "    </tr>\n",
       "    <tr>\n",
       "      <th>3</th>\n",
       "      <td>31357</td>\n",
       "      <td>Waiting to Exhale</td>\n",
       "      <td>[Comedy, Drama, Romance]</td>\n",
       "      <td>en</td>\n",
       "      <td>Cheated on, mistreated and stepped on, the wom...</td>\n",
       "      <td>6.1</td>\n",
       "      <td>34</td>\n",
       "      <td>[WhitneyHouston, AngelaBassett, LorettaDevine]</td>\n",
       "      <td>[ForestWhitaker]</td>\n",
       "    </tr>\n",
       "    <tr>\n",
       "      <th>4</th>\n",
       "      <td>11862</td>\n",
       "      <td>Father of the Bride Part II</td>\n",
       "      <td>[Comedy]</td>\n",
       "      <td>en</td>\n",
       "      <td>Just when George Banks has recovered from his ...</td>\n",
       "      <td>5.7</td>\n",
       "      <td>173</td>\n",
       "      <td>[SteveMartin, DianeKeaton, MartinShort]</td>\n",
       "      <td>[CharlesShyer]</td>\n",
       "    </tr>\n",
       "  </tbody>\n",
       "</table>\n",
       "</div>"
      ],
      "text/plain": [
       "      id                        title                        genres  \\\n",
       "0    862                    Toy Story   [Animation, Comedy, Family]   \n",
       "1   8844                      Jumanji  [Adventure, Fantasy, Family]   \n",
       "2  15602             Grumpier Old Men             [Romance, Comedy]   \n",
       "3  31357            Waiting to Exhale      [Comedy, Drama, Romance]   \n",
       "4  11862  Father of the Bride Part II                      [Comedy]   \n",
       "\n",
       "  original_language                                           overview  \\\n",
       "0                en  Led by Woody, Andy's toys live happily in his ...   \n",
       "1                en  When siblings Judy and Peter discover an encha...   \n",
       "2                en  A family wedding reignites the ancient feud be...   \n",
       "3                en  Cheated on, mistreated and stepped on, the wom...   \n",
       "4                en  Just when George Banks has recovered from his ...   \n",
       "\n",
       "   vote_average  vote_count                                            cast  \\\n",
       "0           7.7        5415                [TomHanks, TimAllen, DonRickles]   \n",
       "1           6.9        2413     [RobinWilliams, JonathanHyde, KirstenDunst]   \n",
       "2           6.5          92        [WalterMatthau, JackLemmon, Ann-Margret]   \n",
       "3           6.1          34  [WhitneyHouston, AngelaBassett, LorettaDevine]   \n",
       "4           5.7         173         [SteveMartin, DianeKeaton, MartinShort]   \n",
       "\n",
       "               crew  \n",
       "0    [JohnLasseter]  \n",
       "1     [JoeJohnston]  \n",
       "2    [HowardDeutch]  \n",
       "3  [ForestWhitaker]  \n",
       "4    [CharlesShyer]  "
      ]
     },
     "execution_count": 25,
     "metadata": {},
     "output_type": "execute_result"
    }
   ],
   "source": [
    "df3.head()"
   ]
  },
  {
   "cell_type": "code",
   "execution_count": 26,
   "id": "dff3e294",
   "metadata": {},
   "outputs": [
    {
     "data": {
      "text/plain": [
       "dtype('O')"
      ]
     },
     "execution_count": 26,
     "metadata": {},
     "output_type": "execute_result"
    }
   ],
   "source": [
    "df3['overview'].dtypes"
   ]
  },
  {
   "cell_type": "code",
   "execution_count": 27,
   "id": "819b1a9f",
   "metadata": {},
   "outputs": [],
   "source": [
    "# Split the strings in the 'overview' column\n",
    "df3['overview'] = df3['overview'].str.split()"
   ]
  },
  {
   "cell_type": "code",
   "execution_count": 28,
   "id": "a5d9ba4e",
   "metadata": {},
   "outputs": [
    {
     "data": {
      "text/html": [
       "<div>\n",
       "<style scoped>\n",
       "    .dataframe tbody tr th:only-of-type {\n",
       "        vertical-align: middle;\n",
       "    }\n",
       "\n",
       "    .dataframe tbody tr th {\n",
       "        vertical-align: top;\n",
       "    }\n",
       "\n",
       "    .dataframe thead th {\n",
       "        text-align: right;\n",
       "    }\n",
       "</style>\n",
       "<table border=\"1\" class=\"dataframe\">\n",
       "  <thead>\n",
       "    <tr style=\"text-align: right;\">\n",
       "      <th></th>\n",
       "      <th>id</th>\n",
       "      <th>title</th>\n",
       "      <th>genres</th>\n",
       "      <th>original_language</th>\n",
       "      <th>overview</th>\n",
       "      <th>vote_average</th>\n",
       "      <th>vote_count</th>\n",
       "      <th>cast</th>\n",
       "      <th>crew</th>\n",
       "    </tr>\n",
       "  </thead>\n",
       "  <tbody>\n",
       "    <tr>\n",
       "      <th>0</th>\n",
       "      <td>862</td>\n",
       "      <td>Toy Story</td>\n",
       "      <td>[Animation, Comedy, Family]</td>\n",
       "      <td>en</td>\n",
       "      <td>[Led, by, Woody,, Andy's, toys, live, happily,...</td>\n",
       "      <td>7.7</td>\n",
       "      <td>5415</td>\n",
       "      <td>[TomHanks, TimAllen, DonRickles]</td>\n",
       "      <td>[JohnLasseter]</td>\n",
       "    </tr>\n",
       "  </tbody>\n",
       "</table>\n",
       "</div>"
      ],
      "text/plain": [
       "    id      title                       genres original_language  \\\n",
       "0  862  Toy Story  [Animation, Comedy, Family]                en   \n",
       "\n",
       "                                            overview  vote_average  \\\n",
       "0  [Led, by, Woody,, Andy's, toys, live, happily,...           7.7   \n",
       "\n",
       "   vote_count                              cast            crew  \n",
       "0        5415  [TomHanks, TimAllen, DonRickles]  [JohnLasseter]  "
      ]
     },
     "execution_count": 28,
     "metadata": {},
     "output_type": "execute_result"
    }
   ],
   "source": [
    "df3.head(1)"
   ]
  },
  {
   "cell_type": "code",
   "execution_count": 29,
   "id": "75100eb9",
   "metadata": {},
   "outputs": [],
   "source": [
    "# Split the strings in the 'overview' column\n",
    "# df3['original_language']=df3['original_language'].str.split()"
   ]
  },
  {
   "cell_type": "code",
   "execution_count": 30,
   "id": "6ad14d08",
   "metadata": {},
   "outputs": [],
   "source": [
    "df3['tags']=df3['crew']+df3['genres']+df3['cast']+df3['overview']"
   ]
  },
  {
   "cell_type": "code",
   "execution_count": 31,
   "id": "591bb55c",
   "metadata": {},
   "outputs": [
    {
     "data": {
      "text/html": [
       "<div>\n",
       "<style scoped>\n",
       "    .dataframe tbody tr th:only-of-type {\n",
       "        vertical-align: middle;\n",
       "    }\n",
       "\n",
       "    .dataframe tbody tr th {\n",
       "        vertical-align: top;\n",
       "    }\n",
       "\n",
       "    .dataframe thead th {\n",
       "        text-align: right;\n",
       "    }\n",
       "</style>\n",
       "<table border=\"1\" class=\"dataframe\">\n",
       "  <thead>\n",
       "    <tr style=\"text-align: right;\">\n",
       "      <th></th>\n",
       "      <th>id</th>\n",
       "      <th>title</th>\n",
       "      <th>genres</th>\n",
       "      <th>original_language</th>\n",
       "      <th>overview</th>\n",
       "      <th>vote_average</th>\n",
       "      <th>vote_count</th>\n",
       "      <th>cast</th>\n",
       "      <th>crew</th>\n",
       "      <th>tags</th>\n",
       "    </tr>\n",
       "  </thead>\n",
       "  <tbody>\n",
       "    <tr>\n",
       "      <th>0</th>\n",
       "      <td>862</td>\n",
       "      <td>Toy Story</td>\n",
       "      <td>[Animation, Comedy, Family]</td>\n",
       "      <td>en</td>\n",
       "      <td>[Led, by, Woody,, Andy's, toys, live, happily,...</td>\n",
       "      <td>7.7</td>\n",
       "      <td>5415</td>\n",
       "      <td>[TomHanks, TimAllen, DonRickles]</td>\n",
       "      <td>[JohnLasseter]</td>\n",
       "      <td>[JohnLasseter, Animation, Comedy, Family, TomH...</td>\n",
       "    </tr>\n",
       "    <tr>\n",
       "      <th>1</th>\n",
       "      <td>8844</td>\n",
       "      <td>Jumanji</td>\n",
       "      <td>[Adventure, Fantasy, Family]</td>\n",
       "      <td>en</td>\n",
       "      <td>[When, siblings, Judy, and, Peter, discover, a...</td>\n",
       "      <td>6.9</td>\n",
       "      <td>2413</td>\n",
       "      <td>[RobinWilliams, JonathanHyde, KirstenDunst]</td>\n",
       "      <td>[JoeJohnston]</td>\n",
       "      <td>[JoeJohnston, Adventure, Fantasy, Family, Robi...</td>\n",
       "    </tr>\n",
       "  </tbody>\n",
       "</table>\n",
       "</div>"
      ],
      "text/plain": [
       "     id      title                        genres original_language  \\\n",
       "0   862  Toy Story   [Animation, Comedy, Family]                en   \n",
       "1  8844    Jumanji  [Adventure, Fantasy, Family]                en   \n",
       "\n",
       "                                            overview  vote_average  \\\n",
       "0  [Led, by, Woody,, Andy's, toys, live, happily,...           7.7   \n",
       "1  [When, siblings, Judy, and, Peter, discover, a...           6.9   \n",
       "\n",
       "   vote_count                                         cast            crew  \\\n",
       "0        5415             [TomHanks, TimAllen, DonRickles]  [JohnLasseter]   \n",
       "1        2413  [RobinWilliams, JonathanHyde, KirstenDunst]   [JoeJohnston]   \n",
       "\n",
       "                                                tags  \n",
       "0  [JohnLasseter, Animation, Comedy, Family, TomH...  \n",
       "1  [JoeJohnston, Adventure, Fantasy, Family, Robi...  "
      ]
     },
     "execution_count": 31,
     "metadata": {},
     "output_type": "execute_result"
    }
   ],
   "source": [
    "df3.head(2)"
   ]
  },
  {
   "cell_type": "code",
   "execution_count": 32,
   "id": "3e471cad",
   "metadata": {},
   "outputs": [],
   "source": [
    "df3=df3.drop(columns=['overview','genres', 'cast', 'crew' ])"
   ]
  },
  {
   "cell_type": "code",
   "execution_count": 33,
   "id": "f2f0772f",
   "metadata": {},
   "outputs": [],
   "source": [
    "df3['tags']=df3['tags'].apply(lambda x: \" \".join(x))\n"
   ]
  },
  {
   "cell_type": "code",
   "execution_count": 34,
   "id": "47b08c46",
   "metadata": {},
   "outputs": [],
   "source": [
    "df3['tags']=df3['tags'].str.lower()"
   ]
  },
  {
   "cell_type": "code",
   "execution_count": 35,
   "id": "6dce399e",
   "metadata": {},
   "outputs": [
    {
     "data": {
      "text/plain": [
       "0        johnlasseter animation comedy family tomhanks ...\n",
       "1        joejohnston adventure fantasy family robinwill...\n",
       "2        howarddeutch romance comedy waltermatthau jack...\n",
       "3        forestwhitaker comedy drama romance whitneyhou...\n",
       "4        charlesshyer comedy stevemartin dianekeaton ma...\n",
       "                               ...                        \n",
       "38743    aaronosborne sciencefiction lisaboyle kenaland...\n",
       "38744    johnirvin drama action romance patrickbergin u...\n",
       "38745    hamidnematollah drama family leilahatami kouro...\n",
       "38746    lavdiaz drama angelaquino perrydizon hazeloren...\n",
       "38747    markl.lester action drama thriller erikaelenia...\n",
       "Name: tags, Length: 38662, dtype: object"
      ]
     },
     "execution_count": 35,
     "metadata": {},
     "output_type": "execute_result"
    }
   ],
   "source": [
    "df3['tags']"
   ]
  },
  {
   "cell_type": "code",
   "execution_count": 36,
   "id": "670330fe",
   "metadata": {},
   "outputs": [],
   "source": [
    "df3['title']=df3['title'].str.lower()"
   ]
  },
  {
   "cell_type": "code",
   "execution_count": 37,
   "id": "6f6fa2d7",
   "metadata": {},
   "outputs": [
    {
     "data": {
      "text/html": [
       "<div>\n",
       "<style scoped>\n",
       "    .dataframe tbody tr th:only-of-type {\n",
       "        vertical-align: middle;\n",
       "    }\n",
       "\n",
       "    .dataframe tbody tr th {\n",
       "        vertical-align: top;\n",
       "    }\n",
       "\n",
       "    .dataframe thead th {\n",
       "        text-align: right;\n",
       "    }\n",
       "</style>\n",
       "<table border=\"1\" class=\"dataframe\">\n",
       "  <thead>\n",
       "    <tr style=\"text-align: right;\">\n",
       "      <th></th>\n",
       "      <th>id</th>\n",
       "      <th>title</th>\n",
       "      <th>original_language</th>\n",
       "      <th>vote_average</th>\n",
       "      <th>vote_count</th>\n",
       "      <th>tags</th>\n",
       "    </tr>\n",
       "  </thead>\n",
       "  <tbody>\n",
       "    <tr>\n",
       "      <th>0</th>\n",
       "      <td>862</td>\n",
       "      <td>toy story</td>\n",
       "      <td>en</td>\n",
       "      <td>7.7</td>\n",
       "      <td>5415</td>\n",
       "      <td>johnlasseter animation comedy family tomhanks ...</td>\n",
       "    </tr>\n",
       "    <tr>\n",
       "      <th>1</th>\n",
       "      <td>8844</td>\n",
       "      <td>jumanji</td>\n",
       "      <td>en</td>\n",
       "      <td>6.9</td>\n",
       "      <td>2413</td>\n",
       "      <td>joejohnston adventure fantasy family robinwill...</td>\n",
       "    </tr>\n",
       "    <tr>\n",
       "      <th>2</th>\n",
       "      <td>15602</td>\n",
       "      <td>grumpier old men</td>\n",
       "      <td>en</td>\n",
       "      <td>6.5</td>\n",
       "      <td>92</td>\n",
       "      <td>howarddeutch romance comedy waltermatthau jack...</td>\n",
       "    </tr>\n",
       "    <tr>\n",
       "      <th>3</th>\n",
       "      <td>31357</td>\n",
       "      <td>waiting to exhale</td>\n",
       "      <td>en</td>\n",
       "      <td>6.1</td>\n",
       "      <td>34</td>\n",
       "      <td>forestwhitaker comedy drama romance whitneyhou...</td>\n",
       "    </tr>\n",
       "    <tr>\n",
       "      <th>4</th>\n",
       "      <td>11862</td>\n",
       "      <td>father of the bride part ii</td>\n",
       "      <td>en</td>\n",
       "      <td>5.7</td>\n",
       "      <td>173</td>\n",
       "      <td>charlesshyer comedy stevemartin dianekeaton ma...</td>\n",
       "    </tr>\n",
       "    <tr>\n",
       "      <th>...</th>\n",
       "      <td>...</td>\n",
       "      <td>...</td>\n",
       "      <td>...</td>\n",
       "      <td>...</td>\n",
       "      <td>...</td>\n",
       "      <td>...</td>\n",
       "    </tr>\n",
       "    <tr>\n",
       "      <th>38743</th>\n",
       "      <td>222848</td>\n",
       "      <td>caged heat 3000</td>\n",
       "      <td>en</td>\n",
       "      <td>3.5</td>\n",
       "      <td>1</td>\n",
       "      <td>aaronosborne sciencefiction lisaboyle kenaland...</td>\n",
       "    </tr>\n",
       "    <tr>\n",
       "      <th>38744</th>\n",
       "      <td>30840</td>\n",
       "      <td>robin hood</td>\n",
       "      <td>en</td>\n",
       "      <td>5.7</td>\n",
       "      <td>26</td>\n",
       "      <td>johnirvin drama action romance patrickbergin u...</td>\n",
       "    </tr>\n",
       "    <tr>\n",
       "      <th>38745</th>\n",
       "      <td>439050</td>\n",
       "      <td>subdue</td>\n",
       "      <td>fa</td>\n",
       "      <td>4.0</td>\n",
       "      <td>1</td>\n",
       "      <td>hamidnematollah drama family leilahatami kouro...</td>\n",
       "    </tr>\n",
       "    <tr>\n",
       "      <th>38746</th>\n",
       "      <td>111109</td>\n",
       "      <td>century of birthing</td>\n",
       "      <td>tl</td>\n",
       "      <td>9.0</td>\n",
       "      <td>3</td>\n",
       "      <td>lavdiaz drama angelaquino perrydizon hazeloren...</td>\n",
       "    </tr>\n",
       "    <tr>\n",
       "      <th>38747</th>\n",
       "      <td>67758</td>\n",
       "      <td>betrayal</td>\n",
       "      <td>en</td>\n",
       "      <td>3.8</td>\n",
       "      <td>6</td>\n",
       "      <td>markl.lester action drama thriller erikaelenia...</td>\n",
       "    </tr>\n",
       "  </tbody>\n",
       "</table>\n",
       "<p>38662 rows × 6 columns</p>\n",
       "</div>"
      ],
      "text/plain": [
       "           id                        title original_language  vote_average  \\\n",
       "0         862                    toy story                en           7.7   \n",
       "1        8844                      jumanji                en           6.9   \n",
       "2       15602             grumpier old men                en           6.5   \n",
       "3       31357            waiting to exhale                en           6.1   \n",
       "4       11862  father of the bride part ii                en           5.7   \n",
       "...       ...                          ...               ...           ...   \n",
       "38743  222848              caged heat 3000                en           3.5   \n",
       "38744   30840                   robin hood                en           5.7   \n",
       "38745  439050                       subdue                fa           4.0   \n",
       "38746  111109          century of birthing                tl           9.0   \n",
       "38747   67758                     betrayal                en           3.8   \n",
       "\n",
       "       vote_count                                               tags  \n",
       "0            5415  johnlasseter animation comedy family tomhanks ...  \n",
       "1            2413  joejohnston adventure fantasy family robinwill...  \n",
       "2              92  howarddeutch romance comedy waltermatthau jack...  \n",
       "3              34  forestwhitaker comedy drama romance whitneyhou...  \n",
       "4             173  charlesshyer comedy stevemartin dianekeaton ma...  \n",
       "...           ...                                                ...  \n",
       "38743           1  aaronosborne sciencefiction lisaboyle kenaland...  \n",
       "38744          26  johnirvin drama action romance patrickbergin u...  \n",
       "38745           1  hamidnematollah drama family leilahatami kouro...  \n",
       "38746           3  lavdiaz drama angelaquino perrydizon hazeloren...  \n",
       "38747           6  markl.lester action drama thriller erikaelenia...  \n",
       "\n",
       "[38662 rows x 6 columns]"
      ]
     },
     "execution_count": 37,
     "metadata": {},
     "output_type": "execute_result"
    }
   ],
   "source": [
    "df3"
   ]
  },
  {
   "cell_type": "code",
   "execution_count": 38,
   "id": "932a2cd5",
   "metadata": {},
   "outputs": [
    {
     "data": {
      "text/plain": [
       "'davidfincher crime mystery thriller bradpitt morganfreeman gwynethpaltrow two homicide detectives are on a desperate hunt for a serial killer whose crimes are based on the \"seven deadly sins\" in this dark and haunting film that takes viewers from the tortured remains of one victim to the next. the seasoned det. sommerset researches each sin in an effort to get inside the killer\\'s mind, while his novice partner, mills, scoffs at his efforts to unravel the case.'"
      ]
     },
     "execution_count": 38,
     "metadata": {},
     "output_type": "execute_result"
    }
   ],
   "source": [
    "df3['tags'][45]"
   ]
  },
  {
   "cell_type": "code",
   "execution_count": 39,
   "id": "36839b00",
   "metadata": {},
   "outputs": [
    {
     "name": "stdout",
     "output_type": "stream",
     "text": [
      "quick brown fox jumps apple .\n"
     ]
    },
    {
     "name": "stderr",
     "output_type": "stream",
     "text": [
      "[nltk_data] Downloading package punkt to\n",
      "[nltk_data]     C:\\Users\\KNIGHT\\AppData\\Roaming\\nltk_data...\n",
      "[nltk_data]   Package punkt is already up-to-date!\n",
      "[nltk_data] Downloading package stopwords to\n",
      "[nltk_data]     C:\\Users\\KNIGHT\\AppData\\Roaming\\nltk_data...\n",
      "[nltk_data]   Package stopwords is already up-to-date!\n"
     ]
    }
   ],
   "source": [
    "import nltk\n",
    "from nltk.corpus import stopwords\n",
    "from nltk.tokenize import word_tokenize\n",
    "\n",
    "# Download the necessary resources\n",
    "nltk.download('punkt')\n",
    "nltk.download('stopwords')\n",
    "\n",
    "def remove_unmeaningful_words(sentence):\n",
    "    # Tokenize the sentence into individual words\n",
    "    tokens = word_tokenize(sentence)\n",
    "\n",
    "    # Get the English stopwords (includes articles and conjunctions)\n",
    "    stopwords_list = set(stopwords.words('english'))\n",
    "\n",
    "    # Filter out stopwords from the tokens\n",
    "    filtered_tokens = [token for token in tokens if token.lower() not in stopwords_list]\n",
    "\n",
    "    # Reconstruct the sentence without the unmeaningful words\n",
    "    filtered_sentence = ' '.join(filtered_tokens)\n",
    "\n",
    "    return filtered_sentence\n",
    "\n",
    "# Example sentence\n",
    "sentence = \"The quick brown fox jumps over an apple.\"\n",
    "\n",
    "# Remove unmeaningful words from the sentence\n",
    "filtered_sentence = remove_unmeaningful_words(sentence)\n",
    "\n",
    "print(filtered_sentence)\n"
   ]
  },
  {
   "cell_type": "code",
   "execution_count": 40,
   "id": "3cb49fe8",
   "metadata": {},
   "outputs": [],
   "source": [
    "df3['tags']=df3['tags'].apply(remove_unmeaningful_words)"
   ]
  },
  {
   "cell_type": "code",
   "execution_count": 41,
   "id": "2e6c03d2",
   "metadata": {},
   "outputs": [
    {
     "data": {
      "text/plain": [
       "\"davidfincher crime mystery thriller bradpitt morganfreeman gwynethpaltrow two homicide detectives desperate hunt serial killer whose crimes based `` seven deadly sins '' dark haunting film takes viewers tortured remains one victim next . seasoned det . sommerset researches sin effort get inside killer 's mind , novice partner , mills , scoffs efforts unravel case .\""
      ]
     },
     "execution_count": 41,
     "metadata": {},
     "output_type": "execute_result"
    }
   ],
   "source": [
    "df3['tags'][45]"
   ]
  },
  {
   "cell_type": "code",
   "execution_count": 42,
   "id": "eb809548",
   "metadata": {},
   "outputs": [
    {
     "name": "stdout",
     "output_type": "stream",
     "text": [
      "Hello world This is a sample sentence with special characters\n"
     ]
    }
   ],
   "source": [
    "import re\n",
    "\n",
    "def remove_special_chars(sentence):\n",
    "    cleaned_sentence = re.sub(r'[^\\w\\s]', '', sentence)\n",
    "    return cleaned_sentence\n",
    "\n",
    "# Example sentence\n",
    "sentence = \"Hello, world! This is a sample sentence with special characters.\"\n",
    "\n",
    "# Remove special characters from the sentence\n",
    "cleaned_sentence = remove_special_chars(sentence)\n",
    "\n",
    "print(cleaned_sentence)\n"
   ]
  },
  {
   "cell_type": "code",
   "execution_count": 43,
   "id": "f6d918e1",
   "metadata": {},
   "outputs": [],
   "source": [
    "df3['tags']=df3['tags'].apply(remove_special_chars)"
   ]
  },
  {
   "cell_type": "code",
   "execution_count": 44,
   "id": "09cfd9e2",
   "metadata": {},
   "outputs": [
    {
     "data": {
      "text/plain": [
       "'martincampbell adventure action thriller piercebrosnan seanbean izabellascorupco james bond must unmask mysterious head janus syndicate prevent leader utilizing goldeneye weapons system inflict devastating revenge britain '"
      ]
     },
     "execution_count": 44,
     "metadata": {},
     "output_type": "execute_result"
    }
   ],
   "source": [
    "df3['tags'][9]"
   ]
  },
  {
   "cell_type": "code",
   "execution_count": 45,
   "id": "7220d45a",
   "metadata": {},
   "outputs": [
    {
     "name": "stderr",
     "output_type": "stream",
     "text": [
      "[nltk_data] Downloading package punkt to\n",
      "[nltk_data]     C:\\Users\\KNIGHT\\AppData\\Roaming\\nltk_data...\n",
      "[nltk_data]   Package punkt is already up-to-date!\n",
      "[nltk_data] Downloading package wordnet to\n",
      "[nltk_data]     C:\\Users\\KNIGHT\\AppData\\Roaming\\nltk_data...\n",
      "[nltk_data]   Package wordnet is already up-to-date!\n"
     ]
    },
    {
     "name": "stdout",
     "output_type": "stream",
     "text": [
      "I have eaten apple and orange It wa a delicious meal\n"
     ]
    }
   ],
   "source": [
    "import nltk\n",
    "from nltk.stem import WordNetLemmatizer\n",
    "from nltk.tokenize import word_tokenize\n",
    "import re\n",
    "\n",
    "# Download the necessary resources\n",
    "nltk.download('punkt')\n",
    "nltk.download('wordnet')\n",
    "\n",
    "def lemmatize_sentence(sentence):\n",
    "    # Remove special characters from the sentence\n",
    "    cleaned_sentence = re.sub(r'[^\\w\\s]', '', sentence)\n",
    "\n",
    "    # Tokenize the cleaned sentence into individual words\n",
    "    tokens = word_tokenize(cleaned_sentence)\n",
    "\n",
    "    # Initialize the WordNet lemmatizer\n",
    "    lemma = WordNetLemmatizer()\n",
    "\n",
    "    # Lemmatize each word in the tokens\n",
    "    lemmatized_tokens = [lemma.lemmatize(token) for token in tokens]\n",
    "\n",
    "    # Reconstruct the lemmatized sentence\n",
    "    lemmatized_sentence = ' '.join(lemmatized_tokens)\n",
    "\n",
    "    return lemmatized_sentence\n",
    "\n",
    "# Example sentence\n",
    "sentence = \"I have eaten apples and oranges. It was a delicious meal!\"\n",
    "\n",
    "# Lemmatize the sentence\n",
    "lemmatized_sentence = lemmatize_sentence(sentence)\n",
    "\n",
    "print(lemmatized_sentence)\n"
   ]
  },
  {
   "cell_type": "code",
   "execution_count": 46,
   "id": "66ffbe0b",
   "metadata": {},
   "outputs": [
    {
     "data": {
      "text/plain": [
       "0        johnlasseter animation comedy family tomhanks ...\n",
       "1        joejohnston adventure fantasy family robinwill...\n",
       "2        howarddeutch romance comedy waltermatthau jack...\n",
       "3        forestwhitaker comedy drama romance whitneyhou...\n",
       "4        charlesshyer comedy stevemartin dianekeaton ma...\n",
       "                               ...                        \n",
       "38743    aaronosborne sciencefiction lisaboyle kenaland...\n",
       "38744    johnirvin drama action romance patrickbergin u...\n",
       "38745    hamidnematollah drama family leilahatami kouro...\n",
       "38746    lavdiaz drama angelaquino perrydizon hazeloren...\n",
       "38747    markllester action drama thriller erikaeleniak...\n",
       "Name: tags, Length: 38662, dtype: object"
      ]
     },
     "execution_count": 46,
     "metadata": {},
     "output_type": "execute_result"
    }
   ],
   "source": [
    "df3['tags'].apply(lemmatize_sentence)"
   ]
  },
  {
   "cell_type": "code",
   "execution_count": 47,
   "id": "8530b7a8",
   "metadata": {},
   "outputs": [
    {
     "name": "stdout",
     "output_type": "stream",
     "text": [
      "Max Length: 270\n",
      "Row Index: 29288\n"
     ]
    }
   ],
   "source": [
    "max_length = len(df3['tags'].iloc[df3['tags'].str.len().idxmax()])\n",
    "row_index = df3['tags'].str.len().idxmax()\n",
    "\n",
    "print(\"Max Length:\", max_length)\n",
    "print(\"Row Index:\", row_index)\n"
   ]
  },
  {
   "cell_type": "code",
   "execution_count": 48,
   "id": "1e0bb53d",
   "metadata": {},
   "outputs": [],
   "source": [
    "from sklearn.feature_extraction.text import CountVectorizer\n",
    "cv = CountVectorizer(max_features=2000,stop_words='english')\n",
    "    "
   ]
  },
  {
   "cell_type": "code",
   "execution_count": 49,
   "id": "55acac8e",
   "metadata": {},
   "outputs": [],
   "source": [
    "vector = cv.fit_transform(df3['tags']).toarray()\n"
   ]
  },
  {
   "cell_type": "code",
   "execution_count": 50,
   "id": "456fa7d1",
   "metadata": {},
   "outputs": [
    {
     "data": {
      "text/plain": [
       "(38662, 2000)"
      ]
     },
     "execution_count": 50,
     "metadata": {},
     "output_type": "execute_result"
    }
   ],
   "source": [
    "vector.shape"
   ]
  },
  {
   "cell_type": "code",
   "execution_count": 51,
   "id": "17f04ae3",
   "metadata": {},
   "outputs": [],
   "source": [
    "from sklearn.metrics.pairwise import cosine_similarity"
   ]
  },
  {
   "cell_type": "code",
   "execution_count": 52,
   "id": "9d6ae4b2",
   "metadata": {},
   "outputs": [],
   "source": [
    "similarity = cosine_similarity(vector)"
   ]
  },
  {
   "cell_type": "code",
   "execution_count": 63,
   "id": "6e9669b2",
   "metadata": {},
   "outputs": [
    {
     "data": {
      "text/plain": [
       "array([[1.        , 0.0594701 , 0.07744031, ..., 0.08304548, 0.        ,\n",
       "        0.        ],\n",
       "       [0.0594701 , 1.        , 0.06677806, ..., 0.07161149, 0.05661385,\n",
       "        0.        ],\n",
       "       [0.07744031, 0.06677806, 1.        , ..., 0.09325048, 0.        ,\n",
       "        0.        ],\n",
       "       ...,\n",
       "       [0.08304548, 0.07161149, 0.09325048, ..., 1.        , 0.15811388,\n",
       "        0.12403473],\n",
       "       [0.        , 0.05661385, 0.        , ..., 0.15811388, 1.        ,\n",
       "        0.09805807],\n",
       "       [0.        , 0.        , 0.        , ..., 0.12403473, 0.09805807,\n",
       "        1.        ]])"
      ]
     },
     "execution_count": 63,
     "metadata": {},
     "output_type": "execute_result"
    }
   ],
   "source": [
    "similarity"
   ]
  },
  {
   "cell_type": "code",
   "execution_count": 53,
   "id": "807d4897",
   "metadata": {},
   "outputs": [
    {
     "data": {
      "text/plain": [
       "1"
      ]
     },
     "execution_count": 53,
     "metadata": {},
     "output_type": "execute_result"
    }
   ],
   "source": [
    "df3[df3['title'] == 'jumanji'].index[0]"
   ]
  },
  {
   "cell_type": "code",
   "execution_count": 72,
   "id": "818fe9a9",
   "metadata": {},
   "outputs": [],
   "source": [
    "def recommend(movie):\n",
    "    index = df3[df3['title'] == movie].index[0]\n",
    "    distances = sorted(list(enumerate(similarity[index])), reverse=True, key=lambda x: x[1])\n",
    "    for i in distances[1:6]:\n",
    "        print(df3.iloc[i[0]].title + \", rating=\" + str(df3.iloc[i[0]].vote_average))\n"
   ]
  },
  {
   "cell_type": "code",
   "execution_count": 75,
   "id": "bb3d4653",
   "metadata": {},
   "outputs": [
    {
     "name": "stdout",
     "output_type": "stream",
     "text": [
      "bablo, rating=6.8\n",
      "massacre mafia style, rating=6.7\n",
      "desperado, rating=6.8\n",
      "young detective dee: rise of the sea dragon, rating=5.9\n",
      "war pigs, rating=4.8\n"
     ]
    }
   ],
   "source": [
    "recommend('batman')"
   ]
  },
  {
   "cell_type": "code",
   "execution_count": 77,
   "id": "164bf240",
   "metadata": {},
   "outputs": [],
   "source": [
    "import pickle\n",
    "pickle.dump(df3,open('movie_list.pkl','wb'))\n",
    "pickle.dump(similarity,open('similarity.pkl','wb'))"
   ]
  },
  {
   "cell_type": "code",
   "execution_count": null,
   "id": "4bc39ba6",
   "metadata": {},
   "outputs": [],
   "source": []
  }
 ],
 "metadata": {
  "kernelspec": {
   "display_name": "Python 3 (ipykernel)",
   "language": "python",
   "name": "python3"
  },
  "language_info": {
   "codemirror_mode": {
    "name": "ipython",
    "version": 3
   },
   "file_extension": ".py",
   "mimetype": "text/x-python",
   "name": "python",
   "nbconvert_exporter": "python",
   "pygments_lexer": "ipython3",
   "version": "3.10.9"
  }
 },
 "nbformat": 4,
 "nbformat_minor": 5
}
